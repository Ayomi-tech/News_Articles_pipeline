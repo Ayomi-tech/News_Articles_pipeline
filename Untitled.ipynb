{
 "cells": [
  {
   "cell_type": "code",
   "execution_count": 1,
   "id": "c522ff26",
   "metadata": {},
   "outputs": [],
   "source": [
    "import pandas as pd"
   ]
  },
  {
   "cell_type": "code",
   "execution_count": null,
   "id": "59ffcbcf",
   "metadata": {},
   "outputs": [],
   "source": []
  },
  {
   "cell_type": "code",
   "execution_count": null,
   "id": "45f771b8",
   "metadata": {},
   "outputs": [],
   "source": []
  },
  {
   "cell_type": "code",
   "execution_count": null,
   "id": "4a4b845c",
   "metadata": {},
   "outputs": [],
   "source": []
  },
  {
   "cell_type": "code",
   "execution_count": null,
   "id": "f679763d",
   "metadata": {},
   "outputs": [],
   "source": []
  },
  {
   "cell_type": "code",
   "execution_count": 3,
   "id": "4202a85b",
   "metadata": {},
   "outputs": [
    {
     "data": {
      "text/html": [
       "<div>\n",
       "<style scoped>\n",
       "    .dataframe tbody tr th:only-of-type {\n",
       "        vertical-align: middle;\n",
       "    }\n",
       "\n",
       "    .dataframe tbody tr th {\n",
       "        vertical-align: top;\n",
       "    }\n",
       "\n",
       "    .dataframe thead th {\n",
       "        text-align: right;\n",
       "    }\n",
       "</style>\n",
       "<table border=\"1\" class=\"dataframe\">\n",
       "  <thead>\n",
       "    <tr style=\"text-align: right;\">\n",
       "      <th></th>\n",
       "      <th>web-scraper-order</th>\n",
       "      <th>web-scraper-start-url</th>\n",
       "      <th>links</th>\n",
       "      <th>links-href</th>\n",
       "      <th>Title</th>\n",
       "      <th>Date and time</th>\n",
       "      <th>Publishers</th>\n",
       "      <th>Sub title</th>\n",
       "    </tr>\n",
       "  </thead>\n",
       "  <tbody>\n",
       "    <tr>\n",
       "      <th>0</th>\n",
       "      <td>1683885645-1</td>\n",
       "      <td>https://www.spiegel.de/international/world/</td>\n",
       "      <td>Moscow Mole\\n\\n\\nThe Story Behind Germany's Em...</td>\n",
       "      <td>https://www.spiegel.de/international/world/mos...</td>\n",
       "      <td>Moscow Mole</td>\n",
       "      <td>10.03.2023, 18.06 Uhr</td>\n",
       "      <td>By\\n\\nMaik Baumgärtner, \\n\\nChristo Grozev, \\n...</td>\n",
       "      <td>The Story Behind Germany's Embarrassing Intell...</td>\n",
       "    </tr>\n",
       "    <tr>\n",
       "      <th>1</th>\n",
       "      <td>1683885656-2</td>\n",
       "      <td>https://www.spiegel.de/international/world/</td>\n",
       "      <td>Russia's Dark Shadow\\n\\n\\nThe Black Sea Region...</td>\n",
       "      <td>https://www.spiegel.de/international/world/the...</td>\n",
       "      <td>Russia's Dark Shadow</td>\n",
       "      <td>15.03.2023, 16.52 Uhr</td>\n",
       "      <td>By\\n\\nWalter Mayr</td>\n",
       "      <td>The Black Sea Region Is Suddenly Cast in Geopo...</td>\n",
       "    </tr>\n",
       "    <tr>\n",
       "      <th>2</th>\n",
       "      <td>1683885667-3</td>\n",
       "      <td>https://www.spiegel.de/international/world/</td>\n",
       "      <td>Germany's Migration About-Face\\n\\n\\nBerlin See...</td>\n",
       "      <td>https://www.spiegel.de/international/world/ger...</td>\n",
       "      <td>Germany's Migration About Face</td>\n",
       "      <td>03/17/2023, 04:06 p.m</td>\n",
       "      <td>By\\n \\nHeiner Hoffmann and \\n\\nNana Kofi Acqua...</td>\n",
       "      <td>Berlin Seeks to Recruit Skilled Labor from Africa</td>\n",
       "    </tr>\n",
       "    <tr>\n",
       "      <th>3</th>\n",
       "      <td>1683885676-4</td>\n",
       "      <td>https://www.spiegel.de/international/world/</td>\n",
       "      <td>Acrylic Paints and Urban Combat\\n\\n\\nThe Chech...</td>\n",
       "      <td>https://www.spiegel.de/international/world/the...</td>\n",
       "      <td>Acrylic Paints and Urban Combat</td>\n",
       "      <td>21.03.2023, 14.20 Uhr</td>\n",
       "      <td>By\\n\\nChristoph Reuter und \\n\\nJohanna Maria F...</td>\n",
       "      <td>The Chechens Fighting on the Ukrainian Side</td>\n",
       "    </tr>\n",
       "    <tr>\n",
       "      <th>4</th>\n",
       "      <td>1683885680-5</td>\n",
       "      <td>https://www.spiegel.de/international/world/</td>\n",
       "      <td>Debt Forgiveness for Cape Verde\\n\\n\\nA Climate...</td>\n",
       "      <td>https://www.spiegel.de/international/world/deb...</td>\n",
       "      <td>Debt Forgiveness for Cape Verde</td>\n",
       "      <td>23.03.2023, 10.52 Uhr</td>\n",
       "      <td>By\\n\\nHeiner Hoffmann und \\n\\nCarmen Abd Ali (...</td>\n",
       "      <td>A Climate Deal that Could Become a Model for O...</td>\n",
       "    </tr>\n",
       "  </tbody>\n",
       "</table>\n",
       "</div>"
      ],
      "text/plain": [
       "  web-scraper-order                        web-scraper-start-url  \\\n",
       "0      1683885645-1  https://www.spiegel.de/international/world/   \n",
       "1      1683885656-2  https://www.spiegel.de/international/world/   \n",
       "2      1683885667-3  https://www.spiegel.de/international/world/   \n",
       "3      1683885676-4  https://www.spiegel.de/international/world/   \n",
       "4      1683885680-5  https://www.spiegel.de/international/world/   \n",
       "\n",
       "                                               links  \\\n",
       "0  Moscow Mole\\n\\n\\nThe Story Behind Germany's Em...   \n",
       "1  Russia's Dark Shadow\\n\\n\\nThe Black Sea Region...   \n",
       "2  Germany's Migration About-Face\\n\\n\\nBerlin See...   \n",
       "3  Acrylic Paints and Urban Combat\\n\\n\\nThe Chech...   \n",
       "4  Debt Forgiveness for Cape Verde\\n\\n\\nA Climate...   \n",
       "\n",
       "                                          links-href  \\\n",
       "0  https://www.spiegel.de/international/world/mos...   \n",
       "1  https://www.spiegel.de/international/world/the...   \n",
       "2  https://www.spiegel.de/international/world/ger...   \n",
       "3  https://www.spiegel.de/international/world/the...   \n",
       "4  https://www.spiegel.de/international/world/deb...   \n",
       "\n",
       "                             Title          Date and time  \\\n",
       "0                      Moscow Mole  10.03.2023, 18.06 Uhr   \n",
       "1             Russia's Dark Shadow  15.03.2023, 16.52 Uhr   \n",
       "2   Germany's Migration About Face  03/17/2023, 04:06 p.m   \n",
       "3  Acrylic Paints and Urban Combat  21.03.2023, 14.20 Uhr   \n",
       "4  Debt Forgiveness for Cape Verde  23.03.2023, 10.52 Uhr   \n",
       "\n",
       "                                          Publishers  \\\n",
       "0  By\\n\\nMaik Baumgärtner, \\n\\nChristo Grozev, \\n...   \n",
       "1                                  By\\n\\nWalter Mayr   \n",
       "2  By\\n \\nHeiner Hoffmann and \\n\\nNana Kofi Acqua...   \n",
       "3  By\\n\\nChristoph Reuter und \\n\\nJohanna Maria F...   \n",
       "4  By\\n\\nHeiner Hoffmann und \\n\\nCarmen Abd Ali (...   \n",
       "\n",
       "                                           Sub title  \n",
       "0  The Story Behind Germany's Embarrassing Intell...  \n",
       "1  The Black Sea Region Is Suddenly Cast in Geopo...  \n",
       "2  Berlin Seeks to Recruit Skilled Labor from Africa  \n",
       "3        The Chechens Fighting on the Ukrainian Side  \n",
       "4  A Climate Deal that Could Become a Model for O...  "
      ]
     },
     "execution_count": 3,
     "metadata": {},
     "output_type": "execute_result"
    }
   ],
   "source": [
    "df = pd.read_csv('News_articles.csv')\n",
    "df.head()"
   ]
  },
  {
   "cell_type": "code",
   "execution_count": null,
   "id": "2c0aaad1",
   "metadata": {},
   "outputs": [],
   "source": []
  },
  {
   "cell_type": "code",
   "execution_count": null,
   "id": "8537c266",
   "metadata": {},
   "outputs": [],
   "source": []
  },
  {
   "cell_type": "code",
   "execution_count": null,
   "id": "1cb586be",
   "metadata": {},
   "outputs": [],
   "source": [
    "df = pd.read_csv('News_articles.csv')\n",
    "df.head()"
   ]
  },
  {
   "cell_type": "code",
   "execution_count": null,
   "id": "8cdaadb3",
   "metadata": {},
   "outputs": [],
   "source": []
  },
  {
   "cell_type": "code",
   "execution_count": null,
   "id": "f40ce5da",
   "metadata": {},
   "outputs": [],
   "source": []
  },
  {
   "cell_type": "code",
   "execution_count": null,
   "id": "0ba0553f",
   "metadata": {},
   "outputs": [],
   "source": []
  },
  {
   "cell_type": "code",
   "execution_count": null,
   "id": "bebedfa7",
   "metadata": {},
   "outputs": [],
   "source": []
  }
 ],
 "metadata": {
  "kernelspec": {
   "display_name": "Python 3 (ipykernel)",
   "language": "python",
   "name": "python3"
  },
  "language_info": {
   "codemirror_mode": {
    "name": "ipython",
    "version": 3
   },
   "file_extension": ".py",
   "mimetype": "text/x-python",
   "name": "python",
   "nbconvert_exporter": "python",
   "pygments_lexer": "ipython3",
   "version": "3.10.9"
  }
 },
 "nbformat": 4,
 "nbformat_minor": 5
}
