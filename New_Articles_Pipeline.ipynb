{
 "cells": [
  {
   "cell_type": "code",
   "execution_count": 2,
   "id": "76f9af8a",
   "metadata": {},
   "outputs": [],
   "source": [
    "from bs4 import BeautifulSoup\n",
    "import requests\n",
    "import time\n",
    "import datetime\n",
    "import smtplib\n",
    "from datetime import datetime, timedelta, timezone\n",
    "import pandas as pd\n",
    "import csv"
   ]
  },
  {
   "cell_type": "code",
   "execution_count": null,
   "id": "b9d828d7",
   "metadata": {},
   "outputs": [],
   "source": []
  },
  {
   "cell_type": "code",
   "execution_count": null,
   "id": "25762f90",
   "metadata": {},
   "outputs": [],
   "source": []
  },
  {
   "cell_type": "code",
   "execution_count": 316,
   "id": "be7d5183",
   "metadata": {},
   "outputs": [],
   "source": [
    "def article_scrap():\n",
    "# connect to website\n",
    "    url = 'https://www.spiegel.de/international/world/'\n",
    "\n",
    "# requesting date from the website\n",
    "    source = requests.get(url)\n",
    "\n",
    "#soup1 = BeautifulSoup(soup1.prettify(), 'html.parser')\n",
    "\n",
    "    soup2 = BeautifulSoup(source.text, 'html.parser')  # same as the code in soup1\n",
    "\n",
    "    yet = soup2.find('h2', class_ = \"w-full\")\n",
    "#title    \n",
    "    ar_title = yet.find('span', class_ = \"mb-4 block text-primary-base dark:text-dm-primary-base focus:text-primary-darker hover:text-primary-dark font-sansUI font-bold text-base\").get_text().strip('\\n')\n",
    "\n",
    "#sub_title\n",
    "    sub_title = yet.find('span', class_ = \"block font-sansUI font-bold text-xl\").get_text().strip('\\n')\n",
    "\n",
    "\n",
    "#date and time \n",
    "    date = datetime.now().strftime(\"%d/%m/%Y %H:%M:%S\")\n",
    "\n",
    "\n",
    "#body = yet.find('h2', class_='lg:w-8/12 md:w-6/12 lg:pl-24 md:pl-24 sm:mx-16') # need help\n",
    "\n",
    "\n",
    "#creation of dataframe\n",
    "    head = ['ar_title', 'sub_title', 'date']\n",
    "    data = [ar_title, sub_title, date]\n",
    "\n",
    "    with open ('news_article.csv', 'a+', newline ='', encoding='UTF8') as f:\n",
    "        writer = csv.eriter(f)\n",
    "        writer.writerow(data)\n",
    "\n"
   ]
  },
  {
   "cell_type": "code",
   "execution_count": 317,
   "id": "dcf329a5",
   "metadata": {
    "scrolled": true
   },
   "outputs": [
    {
     "name": "stdout",
     "output_type": "stream",
     "text": [
      "   10/05/2023 14:28:49  \\\n",
      "0  10/05/2023 14:38:40   \n",
      "1  10/05/2023 14:39:04   \n",
      "\n",
      "  <article aria-label=\"Erdoğan Faces a Real Risk of Losing Election\" class=\"lg:py-24 md:py-24 sm:py-16\" data-has-linked-author=\"\" data-sara-article-id=\"28e3bf53-6aef-4023-87c4-b4c4ead8427a\" data-target-teaser=\"m-news-list-wide\">\\n<div class=\"flex lg:flex-row-reverse md:flex-row-reverse sm:flex-col\">\\n<figure class=\"sm:mb-16 lg:w-4/12 md:w-6/12 lg:px-24 md:px-24 sm:mx-16 sm:shrink-0\">\\n<div class=\"relative\">\\n<a class=\"block\" href=\"https://www.spiegel.de/international/world/turkey-at-a-crossroads-erdogan-faces-a-real-risk-of-losing-election-a-28e3bf53-6aef-4023-87c4-b4c4ead8427a\" target=\"_self\" title=\"Erdoğan Faces a Real Risk of Losing Election\">\\n<div class=\"relative bg-transparent\" data-sara-component=\"{&quot;id&quot;:&quot;70f171ee-6597-4cd7-a3d6-22b9b77f1f32&quot;,&quot;name&quot;:&quot;image&quot;,&quot;title&quot;:&quot;Erdoğan Faces a Real Risk of Losing Election - Tim O'Brien / DER SPIEGEL&quot;,&quot;type&quot;:&quot;media&quot;}\">\\n<picture>\\n<source data-sizes=\"(max-width: 487px) 100vw, (min-width: 488px) and (max-width: 719px) 488px, (min-width: 720px) and (max-width: 919px) 100vw, (min-width: 920px) and (max-width: 1011px) 920px, (min-width: 1012px) 284px\" data-srcset=\"https://cdn.prod.www.spiegel.de/images/70f171ee-6597-4cd7-a3d6-22b9b77f1f32_w488_r1.778_fpx49_fpy53.png 488w, https://cdn.prod.www.spiegel.de/images/70f171ee-6597-4cd7-a3d6-22b9b77f1f32_w284_r1.778_fpx49_fpy53.png 284w\"/>\\n<img class=\"lazyload rounded\" data-image-el=\"img\" data-src=\"https://cdn.prod.www.spiegel.de/images/70f171ee-6597-4cd7-a3d6-22b9b77f1f32_w488_r1.778_fpx49_fpy53.png\" height=\"274\" src=\"data:image/svg+xml,%3Csvg xmlns='http://www.w3.org/2000/svg' viewBox='0 0 488 274' width='488' height='274' %3E%3C/svg%3E\" title=\"Erdoğan Faces a Real Risk of Losing Election - Tim O'Brien / DER SPIEGEL\" width=\"488\"/>\\n</picture>\\n<noscript>\\n<img class=\"absolute inset-0 rounded\" height=\"274\" loading=\"lazy\" sizes=\"(max-width: 487px) 100vw, (min-width: 488px) and (max-width: 719px) 488px, (min-width: 720px) and (max-width: 919px) 100vw, (min-width: 920px) and (max-width: 1011px) 920px, (min-width: 1012px) 284px\" src=\"https://cdn.prod.www.spiegel.de/images/70f171ee-6597-4cd7-a3d6-22b9b77f1f32_w488_r1.778_fpx49_fpy53.png\" srcset=\"https://cdn.prod.www.spiegel.de/images/70f171ee-6597-4cd7-a3d6-22b9b77f1f32_w488_r1.778_fpx49_fpy53.png 488w, https://cdn.prod.www.spiegel.de/images/70f171ee-6597-4cd7-a3d6-22b9b77f1f32_w284_r1.778_fpx49_fpy53.png 284w\" title=\"Erdoğan Faces a Real Risk of Losing Election - Tim O'Brien / DER SPIEGEL\" width=\"488\"/>\\n</noscript>\\n</div>\\n</a>\\n</div>\\n</figure>\\n<div class=\"lg:w-8/12 md:w-6/12 lg:pl-24 md:pl-24 sm:mx-16\">\\n<header class=\"mb-12 lg:flex lg:justify-between lg:items-center md:flex md:justify-between md:items-center\">\\n<h2 class=\"w-full\">\\n<a class=\"text-black dark:text-shade-lightest block\" href=\"https://www.spiegel.de/international/world/turkey-at-a-crossroads-erdogan-faces-a-real-risk-of-losing-election-a-28e3bf53-6aef-4023-87c4-b4c4ead8427a\" target=\"_self\" title=\"Erdoğan Faces a Real Risk of Losing Election\">\\n<span>\\n<span class=\"mb-4 block text-primary-base dark:text-dm-primary-base focus:text-primary-darker hover:text-primary-dark font-sansUI font-bold text-base\" data-target-teaser-el=\"topMark\">\\nTurkey at a Crossroads\\n</span>\\n</span>\\n<span class=\"block font-sansUI font-bold text-xl\"><span class=\"hover:opacity-moderate focus:opacity-moderate\"><span class=\"align-middle\">Erdoğan Faces a Real Risk of Losing Election</span></span>\\n</span>\\n</a>\\n</h2>\\n</header>\\n<section>\\n<a class=\"text-black dark:text-shade-lightest block\" href=\"https://www.spiegel.de/international/world/turkey-at-a-crossroads-erdogan-faces-a-real-risk-of-losing-election-a-28e3bf53-6aef-4023-87c4-b4c4ead8427a\" target=\"_self\" title=\"Erdoğan Faces a Real Risk of Losing Election\">\\n<span class=\"font-serifUI font-normal text-base leading-loose mr-6\" data-target-teaser-el=\"text\">\\nRecep Tayyip Erdoğan has ruled Turkey for over 20 years. Now, there is a real chance he could be defeated in Sunday's election. A journey to disappointed supporters, companies suffering under the beleaguered economy – and to the man who could oust the eternal president.\\n</span>\\n<span class=\"font-sansUI font-normal text-s text-shade-dark dark:text-shade-light\" data-target-teaser-el=\"meta\">\\nBy Şebnem Arsu, Maximilian Popp und Özlem Topçu\\n</span>\\n</a>\\n</section>\\n<div class=\"mt-12 flex items-center justify-between\">\\n<footer class=\"flex flex-wrap items-end leading-loose font-sansUI font-normal text-s text-shade-dark dark:text-shade-light\" data-contains-auxiliary-icons=\"Text\">\\n<span data-auxiliary=\"\">9. Mai 2023, 10.59 Uhr</span>\\n<span class=\"mx-8\" data-auxiliary-bull=\"\" data-icon-auxiliary=\"Text\">•</span>\\n<span data-icon-auxiliary=\"Text\">\\n<span class=\"inline-flex align-middle mr-6\"><svg aria-hidden=\"true\" fill=\"none\" height=\"16\" id=\"spon-text-m\" role=\"img\" viewbox=\"0 0 16 16\" width=\"16\" xmlns=\"http://www.w3.org/2000/svg\">\\n<path class=\"stroke-current\" d=\"M2.5 1.5h11v12h-11v-12z\"></path>\\n<path class=\"stroke-current\" d=\"M10.5 4.5h-5M10.5 6.5h-5M10.5 8.5h-5M8.5 10.5h-3\" stroke-linecap=\"round\"></path>\\n</svg>\\n</span>\\n<span>26 Min</span>\\n</span>\\n</footer>\\n<button class=\"flex hover:opacity-distinct text-black dark:text-shade-lightest\" data-area=\"bookmark_button\" data-component=\"BookmarkButton\" data-sara-click-el=\"button\" data-sara-click-suppress=\"\" data-settings='{\"collection\":\"article\",\"documentId\":\"28e3bf53-6aef-4023-87c4-b4c4ead8427a\"}'>\\n<span class=\"sr-only\" data-bookmark-button-el=\"label\">Zur Merkliste hinzufügen</span>\\n<span class=\"leading-none\" data-bookmark-button-el=\"icon-inactive\"><svg aria-hidden=\"true\" class=\"stroke-current\" fill=\"none\" height=\"24\" id=\"spon-bookmark-l\" role=\"img\" viewbox=\"0 0 24 24\" width=\"24\" xmlns=\"http://www.w3.org/2000/svg\">\\n<path d=\"M6.5 19.37V4.5h10v14.87l-4.327-3.934a1 1 0 00-1.346 0L6.5 19.37z\" stroke-linecap=\"round\" stroke-linejoin=\"round\"></path>\\n</svg>\\n</span>\\n<span class=\"leading-none hidden\" data-bookmark-button-el=\"icon-active\"><svg aria-hidden=\"true\" fill=\"none\" height=\"24\" id=\"spon-bookmark-f-l\" role=\"img\" viewbox=\"0 0 24 24\" width=\"24\" xmlns=\"http://www.w3.org/2000/svg\">\\n<path class=\"fill-current\" d=\"M6 19.37V4.5a.5.5 0 01.5-.5h10a.5.5 0 01.5.5v14.87a.5.5 0 01-.836.37l-4.328-3.934a.5.5 0 00-.672 0L6.836 19.74A.5.5 0 016 19.37z\"></path>\\n</svg>\\n</span>\\n</button>\\n</div>\\n</div>\\n</div>\\n</article>  \\\n",
      "0  <article aria-label=\"Erdoğan Faces a Real Risk...                                                                                                                                                                                                                                                                                                                                                                                                                                                                                                                                                                                                                                                                                                                                                                                                                                                                                                                                                                                                                                                                                                                                                                                                                                                                                                                                                                                                                                                                                                                                                                                                                                                                                                                                                                                                                                                                                                                                                                                                                                                                                                                                                                                                                                                                                                                                                                                                                                                                                                                                                                                                                                                                                                                                                                                                                                                                                                                                                                                                                                                                                                                                                                                                                                                                                                                                                                                                                                                                                                                                                                                                                                                                                                                                                                                                                                                                                                                                                                                                                                                                                                                                                                                                                                                                                                                                                                                                                                                                                                                                                                                                                                                                                                                                                                                                                                                                                                                                                                                                                                                                                                                                                                                                                                                                                                                                                                                                                                                                                                                                                                                                                                                                                                                                                                                                                                                                                                                                                                                                                                                                                                                                                                                                                                                                                                                                                                                                                                                                                                                                                                                                                                                \n",
      "1  <article aria-label=\"The Story Behind Germany'...                                                                                                                                                                                                                                                                                                                                                                                                                                                                                                                                                                                                                                                                                                                                                                                                                                                                                                                                                                                                                                                                                                                                                                                                                                                                                                                                                                                                                                                                                                                                                                                                                                                                                                                                                                                                                                                                                                                                                                                                                                                                                                                                                                                                                                                                                                                                                                                                                                                                                                                                                                                                                                                                                                                                                                                                                                                                                                                                                                                                                                                                                                                                                                                                                                                                                                                                                                                                                                                                                                                                                                                                                                                                                                                                                                                                                                                                                                                                                                                                                                                                                                                                                                                                                                                                                                                                                                                                                                                                                                                                                                                                                                                                                                                                                                                                                                                                                                                                                                                                                                                                                                                                                                                                                                                                                                                                                                                                                                                                                                                                                                                                                                                                                                                                                                                                                                                                                                                                                                                                                                                                                                                                                                                                                                                                                                                                                                                                                                                                                                                                                                                                                                                \n",
      "\n",
      "        Erdoğan Faces a Real Risk of Losing Election  \\\n",
      "0       Erdoğan Faces a Real Risk of Losing Election   \n",
      "1  The Story Behind Germany's Embarrassing Intell...   \n",
      "\n",
      "   \\n\\nTurkey at a Crossroads\\n\\n  \\\n",
      "0  \\n\\nTurkey at a Crossroads\\n\\n   \n",
      "1             \\n\\nMoscow Mole\\n\\n   \n",
      "\n",
      "  <span class=\"font-serifUI font-normal text-base leading-loose mr-6\" data-target-teaser-el=\"text\">\\nRecep Tayyip Erdoğan has ruled Turkey for over 20 years. Now, there is a real chance he could be defeated in Sunday's election. A journey to disappointed supporters, companies suffering under the beleaguered economy – and to the man who could oust the eternal president.\\n</span>  \n",
      "0  \\nRecep Tayyip Erdoğan has ruled Turkey for ov...                                                                                                                                                                                                                                                                                                                                          \n",
      "1  \\nFrom the shores of a lake near Munich to a b...                                                                                                                                                                                                                                                                                                                                          \n"
     ]
    }
   ],
   "source": [
    "dy = pd.read_csv('news_article.csv')\n",
    "print(dy)"
   ]
  },
  {
   "cell_type": "code",
   "execution_count": null,
   "id": "741ea099",
   "metadata": {},
   "outputs": [],
   "source": []
  },
  {
   "cell_type": "code",
   "execution_count": null,
   "id": "ff36fe47",
   "metadata": {},
   "outputs": [],
   "source": []
  },
  {
   "cell_type": "code",
   "execution_count": 318,
   "id": "bfa36a66",
   "metadata": {},
   "outputs": [
    {
     "ename": "NameError",
     "evalue": "name 'ar_title' is not defined",
     "output_type": "error",
     "traceback": [
      "\u001b[0;31m---------------------------------------------------------------------------\u001b[0m",
      "\u001b[0;31mNameError\u001b[0m                                 Traceback (most recent call last)",
      "Cell \u001b[0;32mIn[318], line 1\u001b[0m\n\u001b[0;32m----> 1\u001b[0m \u001b[38;5;28mprint\u001b[39m(\u001b[43mar_title\u001b[49m)\n\u001b[1;32m      2\u001b[0m \u001b[38;5;28mprint\u001b[39m(sub_title)\n\u001b[1;32m      3\u001b[0m \u001b[38;5;28mprint\u001b[39m(date)\n",
      "\u001b[0;31mNameError\u001b[0m: name 'ar_title' is not defined"
     ]
    }
   ],
   "source": [
    "print(ar_title)\n",
    "print(sub_title)\n",
    "print(date)"
   ]
  },
  {
   "cell_type": "code",
   "execution_count": null,
   "id": "bdd4fd02",
   "metadata": {},
   "outputs": [],
   "source": []
  }
 ],
 "metadata": {
  "kernelspec": {
   "display_name": "Python 3 (ipykernel)",
   "language": "python",
   "name": "python3"
  },
  "language_info": {
   "codemirror_mode": {
    "name": "ipython",
    "version": 3
   },
   "file_extension": ".py",
   "mimetype": "text/x-python",
   "name": "python",
   "nbconvert_exporter": "python",
   "pygments_lexer": "ipython3",
   "version": "3.10.9"
  }
 },
 "nbformat": 4,
 "nbformat_minor": 5
}
