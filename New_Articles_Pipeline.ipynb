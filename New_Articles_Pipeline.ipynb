{
 "cells": [
  {
   "cell_type": "code",
   "execution_count": 2,
   "id": "76f9af8a",
   "metadata": {},
   "outputs": [],
   "source": [
    "from bs4 import BeautifulSoup\n",
    "import requests\n",
    "import time\n",
    "import datetime\n",
    "import smtplib\n",
    "from datetime import datetime, timedelta, timezone\n",
    "import pandas as pd\n",
    "import csv"
   ]
  },
  {
   "cell_type": "code",
   "execution_count": null,
   "id": "b9d828d7",
   "metadata": {},
   "outputs": [],
   "source": []
  },
  {
   "cell_type": "code",
   "execution_count": 182,
   "id": "207f65ca",
   "metadata": {
    "scrolled": true
   },
   "outputs": [
    {
     "name": "stdout",
     "output_type": "stream",
     "text": [
      "09/05/2023 14:31:04 28e3bf53-6aef-4023-87c4-b4c4ead8427a Erdoğan Faces a Real Risk of Losing Election \n",
      "\n",
      "Turkey at a Crossroads\n",
      "\n",
      " \n",
      "Recep Tayyip Erdoğan has ruled Turkey for over 20 years. Now, there is a real chance he could be defeated in Sunday's election. A journey to disappointed supporters, companies suffering under the beleaguered economy – and to the man who could oust the eternal president.\n",
      "\n"
     ]
    }
   ],
   "source": [
    "#Connecting to the spiegel.de\n",
    "\n",
    "url = 'https://www.spiegel.de/international/world/'\n",
    "\n",
    "source = requests.get(url)\n",
    "\n",
    "#soup1 = BeautifulSoup(soup1.prettify(), 'html.parser')\n",
    "\n",
    "soup2 = BeautifulSoup(source.text, 'html.parser')  # same as the code in soup1\n",
    "#article= soup1.find_all('article')\n",
    "\n",
    "\n",
    "art = soup2.find('div', class_ = \"bg-white dark:bg-dm-shade-darkest shadow rounded\") #.find_all('div', \"article-teaser-list\")\n",
    "\n",
    "articles = soup2.find_all('article')\n",
    "\n",
    "date = datetime.now().strftime(\"%d/%m/%Y %H:%M:%S\")\n",
    "\n",
    "\n",
    "\n",
    "\n",
    "\n",
    "\n",
    "for article in articles:\n",
    "    article_id = article['data-sara-article-id']\n",
    "    sub_title = article['aria-label']\n",
    "    #title = article['title']\n",
    "    title = article.header.h2.a.span.text\n",
    "    abstract = article.div.section.a.span.text\n",
    "    \n",
    "    print(date, article_id, sub_title, title, abstract)\n",
    "    \n",
    "    break\n",
    "\n",
    "\n",
    "\n",
    "\n",
    "\n",
    "\n",
    "\n"
   ]
  },
  {
   "cell_type": "code",
   "execution_count": 178,
   "id": "b686dd89",
   "metadata": {
    "scrolled": true
   },
   "outputs": [
    {
     "name": "stdout",
     "output_type": "stream",
     "text": [
      "09/05/2023 14:12:24\n"
     ]
    }
   ],
   "source": [
    "today = datetime.now().strftime(\"%d/%m/%Y %H:%M:%S\")\n",
    "\n",
    "print(today)"
   ]
  },
  {
   "cell_type": "code",
   "execution_count": null,
   "id": "c6dd55f6",
   "metadata": {},
   "outputs": [],
   "source": []
  },
  {
   "cell_type": "code",
   "execution_count": null,
   "id": "f26f30f3",
   "metadata": {},
   "outputs": [],
   "source": []
  },
  {
   "cell_type": "code",
   "execution_count": null,
   "id": "fb21e469",
   "metadata": {},
   "outputs": [],
   "source": []
  },
  {
   "cell_type": "code",
   "execution_count": null,
   "id": "01b5d820",
   "metadata": {},
   "outputs": [],
   "source": []
  },
  {
   "cell_type": "code",
   "execution_count": null,
   "id": "25762f90",
   "metadata": {},
   "outputs": [],
   "source": []
  },
  {
   "cell_type": "code",
   "execution_count": null,
   "id": "683cb0a2",
   "metadata": {},
   "outputs": [],
   "source": []
  },
  {
   "cell_type": "code",
   "execution_count": null,
   "id": "6a27c951",
   "metadata": {},
   "outputs": [],
   "source": []
  },
  {
   "cell_type": "code",
   "execution_count": null,
   "id": "3e225e61",
   "metadata": {},
   "outputs": [],
   "source": []
  },
  {
   "cell_type": "code",
   "execution_count": null,
   "id": "6d5fce92",
   "metadata": {},
   "outputs": [],
   "source": []
  },
  {
   "cell_type": "code",
   "execution_count": null,
   "id": "14be2a6e",
   "metadata": {},
   "outputs": [],
   "source": []
  },
  {
   "cell_type": "code",
   "execution_count": null,
   "id": "bfa36a66",
   "metadata": {},
   "outputs": [],
   "source": []
  },
  {
   "cell_type": "code",
   "execution_count": null,
   "id": "0bdf6d18",
   "metadata": {},
   "outputs": [],
   "source": []
  },
  {
   "cell_type": "code",
   "execution_count": null,
   "id": "c2af45c1",
   "metadata": {},
   "outputs": [],
   "source": []
  },
  {
   "cell_type": "code",
   "execution_count": null,
   "id": "42a9dd88",
   "metadata": {},
   "outputs": [],
   "source": []
  },
  {
   "cell_type": "code",
   "execution_count": null,
   "id": "fe6db85c",
   "metadata": {},
   "outputs": [],
   "source": []
  }
 ],
 "metadata": {
  "kernelspec": {
   "display_name": "Python 3 (ipykernel)",
   "language": "python",
   "name": "python3"
  },
  "language_info": {
   "codemirror_mode": {
    "name": "ipython",
    "version": 3
   },
   "file_extension": ".py",
   "mimetype": "text/x-python",
   "name": "python",
   "nbconvert_exporter": "python",
   "pygments_lexer": "ipython3",
   "version": "3.10.9"
  }
 },
 "nbformat": 4,
 "nbformat_minor": 5
}
